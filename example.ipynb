{
 "metadata": {
  "name": "",
  "signature": "sha256:8f81055dc2a9a3662e5a5db408defa6178b9f3e3826702a8ddaf1bf89ec89e83"
 },
 "nbformat": 3,
 "nbformat_minor": 0,
 "worksheets": [
  {
   "cells": [
    {
     "cell_type": "markdown",
     "metadata": {},
     "source": [
      "IPython Notebook\n",
      "================\n",
      "\n",
      "Conveniently combines\n",
      "\n",
      "* documentation\n",
      "* code"
     ]
    },
    {
     "cell_type": "heading",
     "level": 1,
     "metadata": {},
     "source": [
      "Software Requirements"
     ]
    },
    {
     "cell_type": "heading",
     "level": 2,
     "metadata": {},
     "source": [
      "Python packages"
     ]
    },
    {
     "cell_type": "code",
     "collapsed": false,
     "input": [
      "import get_reqs\n",
      "\n",
      "from get_reqs import requirements_met\n",
      "print(\"\\n\".join(requirements_met()))"
     ],
     "language": "python",
     "metadata": {},
     "outputs": [
      {
       "output_type": "stream",
       "stream": "stdout",
       "text": [
        "sqlalchemy>=0.9: not installed\n",
        "psycopg2: not installed\n",
        "BeautifulSoup4>4.1: not installed\n"
       ]
      }
     ],
     "prompt_number": 1
    },
    {
     "cell_type": "heading",
     "level": 2,
     "metadata": {},
     "source": [
      "PostgreSQL version"
     ]
    },
    {
     "cell_type": "code",
     "collapsed": false,
     "input": [
      "!psql --version"
     ],
     "language": "python",
     "metadata": {},
     "outputs": [
      {
       "output_type": "stream",
       "stream": "stdout",
       "text": [
        "psql (PostgreSQL) 9.3.0\r\n"
       ]
      }
     ],
     "prompt_number": 2
    },
    {
     "cell_type": "code",
     "collapsed": false,
     "input": [],
     "language": "python",
     "metadata": {},
     "outputs": []
    }
   ],
   "metadata": {}
  }
 ]
}