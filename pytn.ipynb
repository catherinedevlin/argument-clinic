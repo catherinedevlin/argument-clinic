{
 "metadata": {
  "name": "",
  "signature": "sha256:498b66e161806575c802d520f9456cbe13511ed3e6db38fee75215cdee854753"
 },
 "nbformat": 3,
 "nbformat_minor": 0,
 "worksheets": [
  {
   "cells": [
    {
     "cell_type": "markdown",
     "metadata": {
      "slideshow": {
       "slide_type": "slide"
      }
     },
     "source": [
      "See Docs Run.  Run, Docs, Run!\n",
      "==============================\n",
      "\n",
      "![](files/rundocrunsvg.png)\n",
      "\n",
      "Catherine Devlin, PyTN 2014\n",
      "---------------------------"
     ]
    },
    {
     "cell_type": "markdown",
     "metadata": {
      "slideshow": {
       "slide_type": "slide"
      }
     },
     "source": [
      "What's a doc?\n",
      "=============\n",
      "\n",
      "- How you use my package\n",
      "\n",
      "- How you write a program\n",
      "\n",
      "- How you do some math, science, ...\n",
      "\n",
      "- How our business operates"
     ]
    },
    {
     "cell_type": "heading",
     "level": 1,
     "metadata": {
      "slideshow": {
       "slide_type": "slide"
      }
     },
     "source": [
      "Docs are a problem"
     ]
    },
    {
     "cell_type": "markdown",
     "metadata": {
      "slideshow": {
       "slide_type": "subslide"
      }
     },
     "source": [
      "You forget\n",
      "----------\n",
      "\n",
      "* While you write\n",
      "* As you update code"
     ]
    },
    {
     "cell_type": "markdown",
     "metadata": {
      "slideshow": {
       "slide_type": "subslide"
      }
     },
     "source": [
      "Are you writing this?\n",
      "---------------------\n",
      "\n",
      "![](files/hf3.jpg)"
     ]
    },
    {
     "cell_type": "markdown",
     "metadata": {
      "slideshow": {
       "slide_type": "subslide"
      }
     },
     "source": [
      "Boring\n",
      "------\n",
      "\n",
      "To write\n",
      "\n",
      "To read"
     ]
    },
    {
     "cell_type": "markdown",
     "metadata": {
      "slideshow": {
       "slide_type": "slide"
      }
     },
     "source": [
      "Solution\n",
      "========\n",
      "\n",
      "More code"
     ]
    },
    {
     "cell_type": "markdown",
     "metadata": {
      "slideshow": {
       "slide_type": "fragment"
      }
     },
     "source": [
      "* forgetfulness\n",
      "* boredom"
     ]
    },
    {
     "cell_type": "markdown",
     "metadata": {
      "slideshow": {
       "slide_type": "slide"
      }
     },
     "source": [
      "Plan\n",
      "====\n",
      "\n",
      "`argumentclinic`\n",
      "----------------\n",
      "\n",
      "* Usage samples\n",
      "* Software requirements"
     ]
    },
    {
     "cell_type": "markdown",
     "metadata": {
      "slideshow": {
       "slide_type": "fragment"
      }
     },
     "source": [
      "Technologies\n",
      "------------\n",
      "\n",
      "* doctests\n",
      "* Sphinx\n",
      "* IPython Notebook\n",
      "* Dexy"
     ]
    },
    {
     "cell_type": "heading",
     "level": 1,
     "metadata": {
      "slideshow": {
       "slide_type": "slide"
      }
     },
     "source": [
      "Doctests"
     ]
    },
    {
     "cell_type": "code",
     "collapsed": false,
     "input": [
      "def argue(statement):\n",
      "    \"\"\"Provides an argument.\n",
      "    \n",
      "    >>> argue(\"It probably is.\")\n",
      "    \"No it isn't.\"\n",
      "    >>> argue(\"Fine, it isn't.\")\n",
      "    \"Yes it is.\"\n",
      "    \"\"\"   \n",
      "    return \"No it isn't.\""
     ],
     "language": "python",
     "metadata": {
      "slideshow": {
       "slide_type": "subslide"
      }
     },
     "outputs": [],
     "prompt_number": 1
    },
    {
     "cell_type": "code",
     "collapsed": false,
     "input": [
      "import doctest\n",
      "\n",
      "if __name__ == '__main__':\n",
      "    doctest.testmod()"
     ],
     "language": "python",
     "metadata": {
      "slideshow": {
       "slide_type": "subslide"
      }
     },
     "outputs": [
      {
       "output_type": "stream",
       "stream": "stdout",
       "text": [
        "**********************************************************************\n",
        "File \"__main__\", line 6, in __main__.argue\n",
        "Failed example:\n",
        "    argue(\"Fine, it isn't.\")\n",
        "Expected:\n",
        "    \"Yes it is.\"\n",
        "Got:\n",
        "    \"No it isn't.\"\n",
        "**********************************************************************\n",
        "1 items had failures:\n",
        "   1 of   2 in __main__.argue\n",
        "***Test Failed*** 1 failures.\n"
       ]
      }
     ],
     "prompt_number": 2
    },
    {
     "cell_type": "markdown",
     "metadata": {
      "slideshow": {
       "slide_type": "subslide"
      }
     },
     "source": [
      "New name: Executable docstrings\n",
      "-------------------------------\n",
      "\n",
      "- Accurate\n",
      "- Relevant\n",
      "- Readable\n",
      "- Fun"
     ]
    },
    {
     "cell_type": "markdown",
     "metadata": {
      "slideshow": {
       "slide_type": "fragment"
      }
     },
     "source": [
      "*orthogonal* to your unit testing"
     ]
    },
    {
     "cell_type": "markdown",
     "metadata": {
      "slideshow": {
       "slide_type": "slide"
      }
     },
     "source": [
      "Lightweight markup\n",
      "==================\n",
      "\n",
      "\n",
      "    Plaintext\n",
      "    ---------\n",
      "\n",
      "    - quick\n",
      "    - readable\n",
      "    - any editor\n",
      "    - *code*-friendly\n",
      "    - **VC**-friendly"
     ]
    },
    {
     "cell_type": "markdown",
     "metadata": {
      "slideshow": {
       "slide_type": "subslide"
      }
     },
     "source": [
      "Plaintext\n",
      "---------\n",
      "\n",
      "- quick\n",
      "- readable\n",
      "- any editor\n",
      "- *code*-friendly\n",
      "- **VC**-friendly"
     ]
    },
    {
     "cell_type": "markdown",
     "metadata": {
      "slideshow": {
       "slide_type": "subslide"
      }
     },
     "source": [
      "reStructuredText\n",
      "----------------\n",
      "\n",
      "* Used by Sphinx\n",
      "* More sophisticated\n",
      "\n",
      "Markdown\n",
      "--------\n",
      "\n",
      "* Used by IPython Notebook\n",
      "* Superset of HTML"
     ]
    },
    {
     "cell_type": "markdown",
     "metadata": {
      "slideshow": {
       "slide_type": "slide"
      }
     },
     "source": [
      "Sphinx\n",
      "======\n",
      "\n",
      "Converts reStructuredText documents to attractive, interlinked, indexed, searchable tree of documents"
     ]
    },
    {
     "cell_type": "markdown",
     "metadata": {
      "slideshow": {
       "slide_type": "subslide"
      }
     },
     "source": [
      "While running `sphinx-quickstart`, answer\n",
      "\n",
      "    > autodoc: automatically insert docstrings from modules (y/N) [n]: y"
     ]
    },
    {
     "cell_type": "code",
     "collapsed": false,
     "input": [
      "cd ~/proj/argument-clinic/argumentclinic/docs/sphinx"
     ],
     "language": "python",
     "metadata": {
      "slideshow": {
       "slide_type": "fragment"
      }
     },
     "outputs": [
      {
       "output_type": "stream",
       "stream": "stdout",
       "text": [
        "/home/catherine/proj/argument-clinic/argumentclinic/docs/sphinx\n"
       ]
      }
     ],
     "prompt_number": 3
    },
    {
     "cell_type": "code",
     "collapsed": false,
     "input": [
      "ls"
     ],
     "language": "python",
     "metadata": {
      "slideshow": {
       "slide_type": "fragment"
      }
     },
     "outputs": [
      {
       "output_type": "stream",
       "stream": "stdout",
       "text": [
        "autodoc.rst   get_reqs.py   Makefile                  \u001b[0m\u001b[01;34m_static\u001b[0m/\r\n",
        "\u001b[01;34m_build\u001b[0m/       get_reqs.pyc  \u001b[01;34m__pycache__\u001b[0m/              \u001b[01;34m_templates\u001b[0m/\r\n",
        "conf.fail.py  index.rst     requirements_autorun.rst  usage_autorun.rst\r\n",
        "conf.py       make.bat      requirements_progout.rst  usage_doctest.rst\r\n"
       ]
      }
     ],
     "prompt_number": 4
    },
    {
     "cell_type": "code",
     "collapsed": false,
     "input": [
      "!make"
     ],
     "language": "python",
     "metadata": {
      "slideshow": {
       "slide_type": "subslide"
      }
     },
     "outputs": [
      {
       "output_type": "stream",
       "stream": "stdout",
       "text": [
        "Please use `make <target>' where <target> is one of\r\n",
        "  html       to make standalone HTML files\r\n",
        "  dirhtml    to make HTML files named index.html in directories\r\n",
        "  singlehtml to make a single large HTML file\r\n",
        "  pickle     to make pickle files\r\n",
        "  json       to make JSON files\r\n",
        "  htmlhelp   to make HTML files and a HTML help project\r\n",
        "  qthelp     to make HTML files and a qthelp project\r\n",
        "  devhelp    to make HTML files and a Devhelp project\r\n",
        "  epub       to make an epub\r\n",
        "  latex      to make LaTeX files, you can set PAPER=a4 or PAPER=letter\r\n",
        "  latexpdf   to make LaTeX files and run them through pdflatex\r\n",
        "  latexpdfja to make LaTeX files and run them through platex/dvipdfmx\r\n",
        "  text       to make text files\r\n",
        "  man        to make manual pages\r\n",
        "  texinfo    to make Texinfo files\r\n",
        "  info       to make Texinfo files and run them through makeinfo\r\n",
        "  gettext    to make PO message catalogs\r\n",
        "  changes    to make an overview of all changed/added/deprecated items\r\n",
        "  xml        to make Docutils-native XML files\r\n",
        "  pseudoxml  to make pseudoxml-XML files for display purposes\r\n",
        "  linkcheck  to check all external links for integrity\r\n",
        "  doctest    to run all doctests embedded in the documentation (if enabled)\r\n"
       ]
      }
     ],
     "prompt_number": 5
    },
    {
     "cell_type": "code",
     "collapsed": false,
     "input": [
      "from argumentclinic.argumentclinic import argue\n",
      "print(argue.__doc__)"
     ],
     "language": "python",
     "metadata": {
      "slideshow": {
       "slide_type": "subslide"
      }
     },
     "outputs": [
      {
       "ename": "ImportError",
       "evalue": "No module named 'argumentclinic'",
       "output_type": "pyerr",
       "traceback": [
        "\u001b[1;31m---------------------------------------------------------------------------\u001b[0m\n\u001b[1;31mImportError\u001b[0m                               Traceback (most recent call last)",
        "\u001b[1;32m<ipython-input-6-b03acca82d0c>\u001b[0m in \u001b[0;36m<module>\u001b[1;34m()\u001b[0m\n\u001b[1;32m----> 1\u001b[1;33m \u001b[1;32mfrom\u001b[0m \u001b[0margumentclinic\u001b[0m\u001b[1;33m.\u001b[0m\u001b[0margumentclinic\u001b[0m \u001b[1;32mimport\u001b[0m \u001b[0margue\u001b[0m\u001b[1;33m\u001b[0m\u001b[0m\n\u001b[0m\u001b[0;32m      2\u001b[0m \u001b[0mprint\u001b[0m\u001b[1;33m(\u001b[0m\u001b[0margue\u001b[0m\u001b[1;33m.\u001b[0m\u001b[0m__doc__\u001b[0m\u001b[1;33m)\u001b[0m\u001b[1;33m\u001b[0m\u001b[0m\n",
        "\u001b[1;31mImportError\u001b[0m: No module named 'argumentclinic'"
       ]
      }
     ],
     "prompt_number": 6
    },
    {
     "cell_type": "code",
     "collapsed": false,
     "input": [
      "cat autodoc.rst"
     ],
     "language": "python",
     "metadata": {
      "slideshow": {
       "slide_type": "subslide"
      }
     },
     "outputs": []
    },
    {
     "cell_type": "code",
     "collapsed": false,
     "input": [
      "!make html"
     ],
     "language": "python",
     "metadata": {
      "slideshow": {
       "slide_type": "subslide"
      }
     },
     "outputs": []
    },
    {
     "cell_type": "markdown",
     "metadata": {
      "slideshow": {
       "slide_type": "subslide"
      }
     },
     "source": [
      "[result](files/argumentclinic/docs/sphinx/_build/html/index.html)"
     ]
    },
    {
     "cell_type": "markdown",
     "metadata": {
      "slideshow": {
       "slide_type": "slide"
      }
     },
     "source": [
      "sphinx.ext.doctest\n",
      "------------------\n",
      "\n",
      "`make doctest html` complements sphinx.ext.autodoc"
     ]
    },
    {
     "cell_type": "markdown",
     "metadata": {
      "slideshow": {
       "slide_type": "subslide"
      }
     },
     "source": [
      "While running `sphinx-quickstart`, answer\n",
      "\n",
      "    > doctest: automatically test code snippets in doctest blocks (y/N) [n]: y\n",
      "    \n",
      "Then, build docs with \n",
      "\n",
      "    make doctest html"
     ]
    },
    {
     "cell_type": "markdown",
     "metadata": {
      "slideshow": {
       "slide_type": "slide"
      }
     },
     "source": [
      "sphinxcontrib.autorun\n",
      "---------------------\n",
      "\n",
      "Install normally\n",
      "\n",
      "      hg clone http://bitbucket.org/birkenfeld/sphinx-contrib/\n",
      "      cd sphinx-contrib/autorun\n",
      "      python setup.py install\n",
      "\n",
      "*Enable* within each Sphinx project\n",
      "\n",
      "      echo \"extensions.append('sphinxcontrib.autorun')\" >> conf.py\n",
      "      \n",
      "Python 2 only **(BOOOOO!)**"
     ]
    },
    {
     "cell_type": "code",
     "collapsed": false,
     "input": [
      "cd ~/proj/argument-clinic/argumentclinic/docs/sphinx/"
     ],
     "language": "python",
     "metadata": {
      "slideshow": {
       "slide_type": "subslide"
      }
     },
     "outputs": []
    },
    {
     "cell_type": "code",
     "collapsed": false,
     "input": [
      "cat usage.rst "
     ],
     "language": "python",
     "metadata": {
      "slideshow": {
       "slide_type": "subslide"
      }
     },
     "outputs": []
    },
    {
     "cell_type": "code",
     "collapsed": false,
     "input": [
      "cat get_reqs.py"
     ],
     "language": "python",
     "metadata": {
      "slideshow": {
       "slide_type": "subslide"
      }
     },
     "outputs": []
    },
    {
     "cell_type": "code",
     "collapsed": false,
     "input": [
      "cat requirements_autorun.rst"
     ],
     "language": "python",
     "metadata": {
      "slideshow": {
       "slide_type": "subslide"
      }
     },
     "outputs": []
    },
    {
     "cell_type": "markdown",
     "metadata": {
      "slideshow": {
       "slide_type": "subslide"
      }
     },
     "source": [
      "sphinxcontrib.programoutput\n",
      "---------------------------\n",
      "\n",
      "Install\n",
      "\n",
      "    pip install sphinxcontrib-programoutput\n",
      "\n",
      "\n",
      "* *Enable* within each Sphinx project\n",
      "\n",
      "      echo \"extensions.append('sphinxcontrib.programoutput')\" >> conf.py\n",
      "          \n",
      "* Python 2 only (**BOOOOOO!**)          \n"
     ]
    },
    {
     "cell_type": "code",
     "collapsed": false,
     "input": [
      "cat requirements_progout.rst"
     ],
     "language": "python",
     "metadata": {
      "slideshow": {
       "slide_type": "subslide"
      }
     },
     "outputs": [
      {
       "output_type": "stream",
       "stream": "stdout",
       "text": [
        "Software Requirements (with ``programoutput``)\r\n",
        "==============================================\r\n",
        "\r\n",
        "Python packages\r\n",
        "---------------\r\n",
        "\r\n",
        ".. program-output:: python get_reqs.py\r\n",
        "\r\n",
        "PostgreSQL\r\n",
        "----------\r\n",
        "\r\n",
        "PostgreSQL 9.1 or better required.  Your system has:\r\n",
        "\r\n",
        ".. command-output:: psql --version\r\n",
        "\r\n"
       ]
      }
     ],
     "prompt_number": 7
    },
    {
     "cell_type": "markdown",
     "metadata": {
      "slideshow": {
       "slide_type": "slide"
      }
     },
     "source": [
      "Sphinx Advantages\n",
      "-----------------\n",
      "\n",
      "* Complex multi-document structure\n",
      "* Doc hosting at Read the DSphixocs\n",
      "* Many extensions and options\n",
      "* Generate variety of formats (PDF, ePub, LaTeX, ...)\n",
      "* Python standard"
     ]
    },
    {
     "cell_type": "markdown",
     "metadata": {
      "slideshow": {
       "slide_type": "slide"
      }
     },
     "source": [
      "IPython Notebook\n",
      "================\n",
      "\n",
      "An interactive browser-based Python environment\n",
      "-----------------------------------------------"
     ]
    },
    {
     "cell_type": "markdown",
     "metadata": {
      "slideshow": {
       "slide_type": "subslide"
      }
     },
     "source": [
      "[Installation instructions](http://ipython.org/installation.html)\n",
      "\n",
      "    apt-get build-dep ipython-notebook\n",
      "    pip install ipython jinja2 pyzmq tornado\n",
      "\n",
      "Start notebook server\n",
      "\n",
      "    ipython notebook   "
     ]
    },
    {
     "cell_type": "markdown",
     "metadata": {},
     "source": [
      "Serving\n",
      "-------\n",
      "\n",
      "* Your own server\n",
      "* [nbviewer](http://nbviewer.ipython.org) + URL or gist\n",
      "* `nbconvert` to HTML or LaTeX\n",
      "* Live hosting at [wakari.io](http://wakari.io)"
     ]
    },
    {
     "cell_type": "markdown",
     "metadata": {},
     "source": [
      "[online .ipynb](http://github.com/catherinedevlin/argument-clinic/raw/master/pytn.ipynb)\n",
      "\n",
      "[Hosted at nbviewer](http://nbviewer.ipython.org/urls/github.com/catherinedevlin/argument-clinic/raw/master/pytn.ipynb)"
     ]
    },
    {
     "cell_type": "markdown",
     "metadata": {
      "slideshow": {
       "slide_type": "subslide"
      }
     },
     "source": [
      "Examples\n",
      "--------\n",
      "\n",
      "* [nbviewer](http://nbviewer.ipython.org/)\n",
      "* [gallery](https://github.com/ipython/ipython/wiki/A-gallery-of-interesting-IPython-Notebooks)\n",
      "* [Probabilistic Programming](http://nbviewer.ipython.org/github/CamDavidsonPilon/Probabilistic-Programming-and-Bayesian-Methods-for-Hackers/blob/master/Chapter1_Introduction/Chapter1_Introduction.ipynb)"
     ]
    },
    {
     "cell_type": "markdown",
     "metadata": {
      "slideshow": {
       "slide_type": "slide"
      }
     },
     "source": [
      "IPython Notebook Advantages\n",
      "---------------------------\n",
      "\n",
      "* Ease of code / doc integration\n",
      "* User can experiment\n",
      "* Static, downloadable hosting at [nbviewer](http://nbviewer.ipython.org)\n",
      "* Live hosting at [wakari.io](wakari.io)"
     ]
    },
    {
     "cell_type": "markdown",
     "metadata": {
      "slideshow": {
       "slide_type": "slide"
      }
     },
     "source": [
      "dexy\n",
      "====\n",
      "\n",
      "Framework for applying transformations to documents"
     ]
    },
    {
     "cell_type": "markdown",
     "metadata": {
      "slideshow": {
       "slide_type": "subslide"
      }
     },
     "source": [
      "Installing\n",
      "----------\n",
      "\n",
      "    pip install dexy"
     ]
    },
    {
     "cell_type": "markdown",
     "metadata": {
      "slideshow": {
       "slide_type": "subslide"
      }
     },
     "source": [
      "Steps\n",
      "-----\n",
      "\n",
      "* Source `.rst` or `.md`\n",
      "* `dexy.txt` or `.yml` recipe\n",
      "* `dexy setup` \n",
      "* `dexy`"
     ]
    },
    {
     "cell_type": "code",
     "collapsed": false,
     "input": [
      "cd ~/proj/argument-clinic/argumentclinic/docs/dexy/"
     ],
     "language": "python",
     "metadata": {
      "slideshow": {
       "slide_type": "subslide"
      }
     },
     "outputs": [
      {
       "output_type": "stream",
       "stream": "stdout",
       "text": [
        "/home/catherine/proj/argument-clinic/argumentclinic/docs/dexy\n"
       ]
      }
     ],
     "prompt_number": 8
    },
    {
     "cell_type": "code",
     "collapsed": false,
     "input": [
      "ls"
     ],
     "language": "python",
     "metadata": {
      "slideshow": {
       "slide_type": "fragment"
      }
     },
     "outputs": [
      {
       "output_type": "stream",
       "stream": "stdout",
       "text": [
        "arg_example.py  dexy.yaml  get_reqs.py  index.rst  \u001b[0m\u001b[01;34moutput\u001b[0m/  psql_version.bash\r\n"
       ]
      }
     ],
     "prompt_number": 9
    },
    {
     "cell_type": "code",
     "collapsed": false,
     "input": [
      "cat index.rst"
     ],
     "language": "python",
     "metadata": {
      "slideshow": {
       "slide_type": "subslide"
      }
     },
     "outputs": [
      {
       "output_type": "stream",
       "stream": "stdout",
       "text": [
        "\r\n",
        "argument-clinic\r\n",
        "===============\r\n",
        "\r\n",
        "`argument-clinic` supplies arguments as desired.\r\n",
        "\r\n",
        "Usage\r\n",
        "-----\r\n",
        "\r\n",
        "::\r\n",
        "\r\n",
        "    {{ d['arg_example.py'] | indent(4) }}\r\n",
        "\r\n",
        "Result::\r\n",
        "\r\n",
        "    {{ d['arg_example.py|py'] | indent(4) }}\r\n",
        "\r\n",
        "Software requirements\r\n",
        "---------------------\r\n",
        "\r\n",
        "::\r\n",
        "\r\n",
        "    {{ d['get_reqs.py|py'] | indent(4) }}\r\n",
        "\r\n",
        "**Also requires** PostgreSQL_ v. 9.1 or above.  \r\n",
        "You have: {{ d['psql_version.bash|bash'] }}\r\n",
        "\r\n",
        ".. _PostgreSQL: http://postgresql.org\r\n",
        "\r\n"
       ]
      }
     ],
     "prompt_number": 10
    },
    {
     "cell_type": "code",
     "collapsed": false,
     "input": [
      "cat dexy.yaml"
     ],
     "language": "python",
     "metadata": {
      "slideshow": {
       "slide_type": "fragment"
      }
     },
     "outputs": [
      {
       "output_type": "stream",
       "stream": "stdout",
       "text": [
        ".rst|jinja|rstbody|easyhtml:\r\n",
        "    - .py|py\r\n",
        "    - .bash|bash\r\n",
        "        \r\n"
       ]
      }
     ],
     "prompt_number": 11
    },
    {
     "cell_type": "code",
     "collapsed": false,
     "input": [
      "!dexy filters"
     ],
     "language": "python",
     "metadata": {
      "slideshow": {
       "slide_type": "subslide"
      }
     },
     "outputs": [
      {
       "output_type": "stream",
       "stream": "stdout",
       "text": [
        "Installed filters:\r\n",
        "  abc : Runs `abcm2ps` on .abc music files.\r\n",
        "  abcm : Runs `abcm2ps` on .abc music files, generating all output formats.\r\n",
        "  apis : Base class for filters which post content to a remote API.\r\n",
        "  applytemplate : Apply template to file. Template should specify %(content)s.\r\n",
        "  archive : Creates a .tgz archive of all input documents.\r\n",
        "  asciidoc : Runs asciidoc command.\r\n",
        "  asciidoctor : Runs `asciidoctor`.\r\n",
        "  asciisyn : Surrounds code with highlighting instructions for Asciidoctor\r\n",
        "  bash : Runs bash scripts using 'bash' and returns stdout.\r\n",
        "  bashint : Runs bash. use to run bash scripts.\r\n",
        "  bn : Forces previous filter to output .bmp extension.\r\n",
        "  botoup : Uses boto library to upload content to S3, returns the URL.\r\n",
        "  bw : Converts color pdf to black and white.\r\n",
        "  bwconv : Converts color pdf to black and white.\r\n",
        "  c : Compile code using gcc and run.\r\n",
        "  calibre : Runs `ebook-convert` command (part of calibre)\r\n",
        "  casperjs : Runs scripts using casper js. Saves cookies.\r\n",
        "  cb : Changes file extension to .sh\r\n",
        "  cfussy : Compile code using gcc and run, raising an error if compiled code returns nonzero exit.\r\n",
        "  ch : Changes file extension to .html\r\n",
        "  chext : Dummy filter for allowing changing a file extension.\r\n",
        "  cinput : Compile code using gcc and run with input.\r\n",
        "  cj : Changes file extension to .json\r\n",
        "  clang : Compile code using clang and run.\r\n",
        "  clanginput : compile code using clang and run with input.\r\n",
        "  clj : Runs clojure.\r\n",
        "  cowsay : Runs input through 'cowsay'.\r\n",
        "  cowthink : Runs input through 'cowthink'.\r\n",
        "  cpickle : Forces previous filter to output .cpickle extension.\r\n",
        "  cpp : Compile c++ code using cpp and run.\r\n",
        "  cppinput : Compile c++ code using cpp and run with input.\r\n",
        "  ct : Changes file extension to .txt\r\n",
        "  customize : Add <script> tags or <link> tags to an HTML file's header.\r\n",
        "  dexy : Filter which implements some default behaviors.\r\n",
        "  dict : Returns an ordered dict with a single element.\r\n",
        "  ditaa : Runs ditaa to generate images from ascii art.\r\n",
        "  dot : Renders .dot files to either PNG or PDF images.\r\n",
        "  dvilatex : Run Latex outputting a .dvi file.\r\n",
        "  easyhtml : Wraps your text in HTML header/footer which includes Baseline CSS resets.\r\n",
        "  easylatex : Wraps your text in LaTeX article header/footer.\r\n",
        "  ebook : Runs `ebook-convert` command (part of calibre)\r\n",
        "  embedfonts : Runs ghostscript ps2pdf with prepress settings.\r\n",
        "  eps2pdf : Uses epstopdf to convert .eps files to .pdf\r\n",
        "  epstopdf : Uses epstopdf to convert .eps files to .pdf\r\n",
        "  escript : Runs Erlang scripts using the escript command.\r\n",
        "  espeak : Runs espeak text to speech.\r\n",
        "  f95 : Compiles and executes fortran code.\r\n",
        "  figlet : Runs input through 'figlet'.\r\n",
        "  filterargs : Prints out the args it receives.\r\n",
        "  fn : Deprecated. No longer needed.\r\n",
        "  fopdf : Uses asciidoctor-fopdf to generate PDF.\r\n",
        "  forcebmp : Forces previous filter to output .bmp extension.\r\n",
        "  forcegif : Forces previous filter to output .gif extension.\r\n",
        "  forcehtml : Forces previous filter to output .html extension.\r\n",
        "  forcejpg : Forces previous filter to output .jpg extension.\r\n",
        "  forcejson : Forces previous filter to output .json extension.\r\n",
        "  forcelatex : Forces previous filter to output .tex extension.\r\n",
        "  forcepdf : Forces previous filter to output .pdf extension.\r\n",
        "  forcepng : Forces previous filter to output .png extension.\r\n",
        "  forcer : Forces previous filter to output .R extension.\r\n",
        "  forcesvg : Forces previous filter to output .svg extension.\r\n",
        "  forcetext : Forces previous filter to output .txt extension.\r\n",
        "  forcexml : Forces previous filter to output .xml extension.\r\n",
        "  fortran : Compiles and executes fortran code.\r\n",
        "  ft : Apply another file to bottom of file.\r\n",
        "  gcc : Compile code using gcc and run.\r\n",
        "  gn : Forces previous filter to output .gif extension.\r\n",
        "  go : Runs 'go run' command on an input .go file. http://golang.org/\r\n",
        "  gotest : Runs 'go test' command on an input .go file. http://golang.org/\r\n",
        "  graphviz : Renders .dot files to either PNG or PDF images.\r\n",
        "  h : Forces previous filter to output .html extension.\r\n",
        "  hd : Apply another file to top of file.\r\n",
        "  head : Returns just the first 10 lines of input.\r\n",
        "  htlatex : Generates HTML from Latex source using htlatex\r\n",
        "  html2pdf : Deprecated, use casper.js instead.\r\n",
        "  htmlsections : Splits files into sections based on comments like ### \"foo\"\r\n",
        "  htmltidy : Uses tidy to clean and validate HTML.\r\n",
        "  ipynb : Get data out of an IPython notebook.\r\n",
        "  ipynbcasper : Launch IPython notebook and run a casperjs script against the server.\r\n",
        "  ipynbx : Generates a static file based on an IPython notebook.\r\n",
        "  ipython : Runs python code in the IPython console.\r\n",
        "  irb : Runs ruby code in irb.\r\n",
        "  irbout : Runs ruby scripts in irb.\r\n",
        "  j : Forces previous filter to output .json extension.\r\n",
        "  java : Compiles java code and runs main method.\r\n",
        "  javac : Compiles java code and returns the .class object\r\n",
        "  jinja : Runs the Jinja templating engine.\r\n",
        "  jirb : Run jruby code in jirb.\r\n",
        "  jlcon : Runs julia (.jl) files in the repl.\r\n",
        "  jn : Forces previous filter to output .jpg extension.\r\n",
        "  join : Takes sectioned code and joins it into a single section. Some filters which\r\n",
        "  jruby : Run jruby code and return stdout.\r\n",
        "  js : Runs code through rhino js interpreter.\r\n",
        "  jsint : Runs rhino JavaScript interpeter.\r\n",
        "  julia : Runs julia (.jl) files.\r\n",
        "  jython : jython\r\n",
        "  jythoni : jython in REPL\r\n",
        "  keyvalueexample : Example of storing key value data.\r\n",
        "  kshint : Runs ksh. Use to run bash scripts.\r\n",
        "  kv : Creates a new key-value store.\r\n",
        "  l : Forces previous filter to output .tex extension.\r\n",
        "  latexdvi : Run Latex outputting a .dvi file.\r\n",
        "  latextile : Converts textile to LaTeX using Redcloth.\r\n",
        "  lines : Returns each line in its own section.\r\n",
        "  lua : Runs code through lua interpreter.\r\n",
        "  lynxdump : Converts HTML to plain text by using lynx -dump.\r\n",
        "  lyx : Runs lyx to generate LaTeX output.\r\n"
       ]
      },
      {
       "output_type": "stream",
       "stream": "stdout",
       "text": [
        "  lyxjinja : Converts dexy:foo.txt|bar into << d['foo.txt|bar'] >>\r\n",
        "  make : Runs make tasks.\r\n",
        "  man : Read command names from a file and fetch man pages for each.\r\n",
        "  markdown : Runs a Markdown processor to convert markdown to HTML.\r\n",
        "  matlabint : Runs matlab in REPL.\r\n",
        "  newdoc : A filter which adds an extra document to the tree.\r\n",
        "  node : Runs scripts using node js\r\n",
        "  nodejs : Runs scripts using node js\r\n",
        "  org : Convert .org files to other formats.\r\n",
        "  others : Example of accessing other documents.\r\n",
        "  outputabc : Only outputs extension .abc\r\n",
        "  p : Forces previous filter to output .pdf extension.\r\n",
        "  pandoc : Convert documents to various available output formats using pandoc.\r\n",
        "  pdf2cairo : Runs `pdftocairo` from the poppler library.\r\n",
        "  pdf2img : Runs ghostscript to convert PDF files to images.\r\n",
        "  pdf2jpg : Converts a PDF file to a jpg image using ghostscript.\r\n",
        "  pdf2text : Uses pdftotext from the poppler library to convert PDFs to text.\r\n",
        "  pdfcrop : Runs the PDFcrop script http://pdfcrop.sourceforge.net/\r\n",
        "  pdfinfo : Uses the pdfinfo script to retrieve metadata about a PDF.\r\n",
        "  pdftotext : Uses pdftotext from the poppler library to convert PDFs to text.\r\n",
        "  phantomjs : Runs scripts using phantom js.\r\n",
        "  php : Runs php file.\r\n",
        "  phpint : Runs PHP in interpeter mode.\r\n",
        "  phrender : Renders HTML to PNG/PDF using phantom.js.\r\n",
        "  pickle : Forces previous filter to output .pickle extension.\r\n",
        "  pn : Forces previous filter to output .png extension.\r\n",
        "  ppjson : Pretty prints JSON input.\r\n",
        "  process : Calls `set_data` method to store output.\r\n",
        "  processmanual : Writes output directly to output file.\r\n",
        "  processtext : Uses process_text method\r\n",
        "  processwithdict : Stores sectional data using `process` method.\r\n",
        "  ps2pdf : Converts a postscript file to PDF format.\r\n",
        "  pstopdf : Converts a postscript file to PDF format.\r\n",
        "  py : Runs Python code and returns stdout.\r\n",
        "  pycon : Runs python code in python's REPL.\r\n",
        "  pydoc : Returns introspected python data in key-value storage format.\r\n",
        "  pyg : Apply Pygments <http://pygments.org/> syntax highlighting.\r\n",
        "  pyg4rst : Surrounds code with highlighting instructions for ReST\r\n",
        "  pyin : Runs python code and passes input\r\n",
        "  pyout : Runs Python code and returns stdout.\r\n",
        "  pytest : Runs the tests in the specified Python modules.\r\n",
        "  r : Runs R in REPL.\r\n",
        "  ragel : Generates ruby source code from a ragel file.\r\n",
        "  rageldot : Generates state chart in .dot format of ragel state machine.\r\n",
        "  ragelruby : Generates ruby source code from a ragel file.\r\n",
        "  ragelrubydot : Generates state chart in .dot format of ragel state machine for ruby.\r\n",
        "  rb : Runs ruby scripts and return stdout.\r\n",
        "  rbrepl : Runs ruby code in irb.\r\n",
        "  rd2pdf : Generates a pdf from R documentation file.\r\n",
        "  Rd2pdf : Generates a pdf from R documentation file.\r\n",
        "  rdconv : Convert R documentation to other formats.\r\n",
        "  redcloth : Converts textile to HTML using Redcloth.\r\n",
        "  redclothl : Converts textile to LaTeX using Redcloth.\r\n",
        "  regetron : Filter which loads .regex file into regetron and runs any input text against it.\r\n",
        "  resub : Runs re.sub on each line of input.\r\n",
        "  rhino : Runs code through rhino js interpreter.\r\n",
        "  rhinoint : Runs rhino JavaScript interpeter.\r\n",
        "  rint : Runs R in REPL.\r\n",
        "  rintbatch : Runs R files in batch mode, returning an R console transcript.\r\n",
        "  rintmock : Experimental filter to run R in sections without using pexpect.\r\n",
        "  rlrb : Generates ruby source code from a ragel file.\r\n",
        "  rlrbd : Generates state chart in .dot format of ragel state machine for ruby.\r\n",
        "  rout : Runs R files in batch mode, returning just the output.\r\n",
        "  routbatch : Runs R files in batch mode, returning just the output.\r\n",
        "  rst : A 'native' ReST filter which uses the docutils library.\r\n",
        "  rst2beamer : Runs rst2beamer command (docutils).\r\n",
        "  rst2html : Convert rst to HTML\r\n",
        "  rst2latex : Runs rst2latex command (docutils).\r\n",
        "  rst2man : Runs rst2man command (docutils).\r\n",
        "  rst2odt : Runs rst2odt command (docutils).\r\n",
        "  rst2xml : Runs rst2xml command (docutils).\r\n",
        "  rstbody : Returns just the body part of an ReST document.\r\n",
        "  rstdocparts : Returns key-value storage of document parts.\r\n",
        "  rstmeta : Extracts bibliographical metadata and makes this available to dexy.\r\n",
        "  rust : Runs rust code.\r\n",
        "  rustc : Runs rust code.\r\n",
        "  rusti : Runs rust code in the rust repl (rusti). EXPERIMENTAL.\r\n",
        "  scala : Compiles and runs .scala files.\r\n",
        "  scalac : Compiles .scala code to .class files.\r\n",
        "  scalai : Runs scala code in the REPL.\r\n",
        "  sectionsbywhitespace : Del\r\n",
        "  sed : Runs a sed script.\r\n",
        "  sh : Runs bash scripts using 'sh' and returns stdout.\r\n",
        "  shint : Runs bash. use to run bash scripts.\r\n",
        "  slides : Converts paragraphs to HTML and wrap each slide in a header and footer.\r\n",
        "  sloc : Runs code through sloccount.\r\n",
        "  sloccount : Runs code through sloccount.\r\n",
        "  soups : Split a HTML file into nested sections based on header tags.\r\n",
        "  split : Generate index page linking to multiple pages from single source.\r\n",
        "  ss : Add a blank space to the start of each line.\r\n",
        "  stata : Runs stata files.\r\n",
        "  statai : Runs stata files.\r\n",
        "  strings : Clean non-printing characters from text using the 'strings' tool.\r\n",
        "  svg : Forces previous filter to output .svg extension.\r\n",
        "  svg2pdf : Converts an SVG file to PDF by running it through casper js.\r\n",
        "  t : Forces previous filter to output .txt extension.\r\n",
        "  tags : Wrap text in specified HTML tags.\r\n",
        "  taverna : Runs workflows in Taverna via command line tool.\r\n",
        "  template : Base class for templating system filters such as JinjaFilter. Templating\r\n",
        "  textile : Converts textile to HTML using Redcloth.\r\n",
        "  tgzdir : Create a .tgz archive containing the unprocessed files in a directory.\r\n",
        "  tidy : Uses tidy to clean and validate HTML.\r\n",
        "  tidycheck : Runs `tidy` to check for valid HTML.\r\n",
        "  tidyerrors : Uses tidy to print HTML errors.\r\n",
        "  tikz : Renders Tikz code to PDF.\r\n",
        "  used : Runs `sed` on the input file.\r\n",
        "  wc : Runs input through wc command line tool.\r\n",
        "  wiki2beamer : Converts wiki content to beamer.\r\n",
        "  wkhtmltopdf : Deprecated, use casper.js instead.\r\n",
        "  wordpress : Posts to a WordPress blog.\r\n",
        "  wrap : Wraps text after 79 characters (tries to preserve existing line breaks and\r\n",
        "  x : Forces previous filter to output .xml extension.\r\n",
        "  xelatex : Runs .tex files using xelatex.\r\n",
        "  xetex : Runs .tex files using xelatex.\r\n",
        "  xmlsec : Stores all elements in the input XML document which have any of the\r\n",
        "  yamlargs : Specify attributes in YAML at top of file.\r\n",
        "  zip : Creates a .zip archive of all input documents.\r\n",
        "\r\n",
        "For more information about a particular filter,\r\n",
        "use the -alias flag and specify the filter alias.\r\n",
        "\r\n"
       ]
      }
     ],
     "prompt_number": 80
    },
    {
     "cell_type": "markdown",
     "metadata": {
      "slideshow": {
       "slide_type": "slide"
      }
     },
     "source": [
      "Dexy Advantages\n",
      "---------------\n",
      "\n",
      "* Filters for many transformations\n",
      "* MD or reST\n",
      "* Most flexible"
     ]
    },
    {
     "cell_type": "markdown",
     "metadata": {
      "slideshow": {
       "slide_type": "slide"
      }
     },
     "source": [
      "Possibilities\n",
      "=============\n",
      "\n",
      "\n",
      "- `tox` results\n",
      "- Living lecture notes\n",
      "- Tutorials that assist with configuration\n",
      "- Information-rich dashboards\n",
      "- Living organizational documentation\n",
      "\n",
      "catherine.devlin@gmail.com\n",
      "\n",
      "[github.com/catherinedevlin/argument-clinic/](http://github.com/catherinedevlin/argument-clinic/)\n",
      "\n",
      "[Notebook form](http://nbviewer.ipython.org/urls/github.com/catherinedevlin/argument-clinic/raw/master/pytn.ipynb)"
     ]
    }
   ],
   "metadata": {}
  }
 ]
}