{
 "metadata": {
  "name": ""
 },
 "nbformat": 3,
 "nbformat_minor": 0,
 "worksheets": [
  {
   "cells": [
    {
     "cell_type": "markdown",
     "metadata": {},
     "source": [
      "argument-clinic\n",
      "===============\n",
      "\n",
      "Supplies arguments as desired."
     ]
    },
    {
     "cell_type": "markdown",
     "metadata": {},
     "source": [
      "Usage\n",
      "-----"
     ]
    },
    {
     "cell_type": "code",
     "collapsed": false,
     "input": [
      "from argumentclinic.argumentclinic import argue\n",
      "\n",
      "print(argue(\"This is a great package.\"))"
     ],
     "language": "python",
     "metadata": {},
     "outputs": [
      {
       "output_type": "stream",
       "stream": "stdout",
       "text": [
        "No it isn't.\n"
       ]
      }
     ],
     "prompt_number": 1
    },
    {
     "cell_type": "markdown",
     "metadata": {},
     "source": [
      "Software requirements\n",
      "---------------------"
     ]
    },
    {
     "cell_type": "code",
     "collapsed": false,
     "input": [
      "%run get_reqs.py"
     ],
     "language": "python",
     "metadata": {},
     "outputs": [
      {
       "output_type": "stream",
       "stream": "stdout",
       "text": [
        "sqlalchemy>=0.9: satisfied by SQLAlchemy 0.9.2\n",
        "psycopg2: not installed\n",
        "BeautifulSoup4>4.1: not installed\n"
       ]
      }
     ],
     "prompt_number": 2
    },
    {
     "cell_type": "markdown",
     "metadata": {},
     "source": [
      "You should also install [PostgreSQL](http://postgresql.org) 9.1 or better."
     ]
    },
    {
     "cell_type": "code",
     "collapsed": false,
     "input": [
      "!psql --version"
     ],
     "language": "python",
     "metadata": {},
     "outputs": [
      {
       "output_type": "stream",
       "stream": "stdout",
       "text": [
        "psql (PostgreSQL) 9.2.5\r\n"
       ]
      }
     ],
     "prompt_number": 3
    },
    {
     "cell_type": "code",
     "collapsed": false,
     "input": [
      "%load get_reqs.py"
     ],
     "language": "python",
     "metadata": {},
     "outputs": [],
     "prompt_number": 4
    },
    {
     "cell_type": "code",
     "collapsed": false,
     "input": [
      "import os.path\n",
      "from pip.req import parse_requirements\n",
      "import argumentclinic\n",
      "\n",
      "req_file_path = '../../requirements.txt'\n",
      "# This worked independent of dexy, and not within dexy,\n",
      "# actual directory for execution was /home/catherine/proj/argument-clinic/argumentclinic/docs/dexy/.dexy/work/85/853c355a6eed8b5fab5bbf05c0d3dd8f-001-py\n",
      "\n",
      "req_file_path = os.path.abspath(os.path.join(argumentclinic.__file__, '../../requirements.txt'))\n",
      "reqs = list(parse_requirements(req_file_path))\n",
      "\n",
      "def requirements_met():\n",
      "    result = []\n",
      "    for req in reqs:\n",
      "        if req.check_if_exists():\n",
      "            result.append(\"%s: satisfied by %s\" % \n",
      "                           (str(req.req), req.satisfied_by))\n",
      "        else:\n",
      "            result.append(\"%s: not installed\" % \n",
      "                           (str(req.req), ))\n",
      "    return result\n",
      "\n",
      "if __name__ == '__main__':\n",
      "    result = requirements_met()\n",
      "    print(\"\\n\".join(result))\n",
      "\n"
     ],
     "language": "python",
     "metadata": {},
     "outputs": [
      {
       "output_type": "stream",
       "stream": "stdout",
       "text": [
        "sqlalchemy>=0.9: satisfied by SQLAlchemy 0.9.2\n",
        "psycopg2: not installed\n",
        "BeautifulSoup4>4.1: not installed\n"
       ]
      }
     ],
     "prompt_number": 5
    },
    {
     "cell_type": "code",
     "collapsed": false,
     "input": [
      "import markdown\n",
      "class MD(str):\n",
      "    def _repr_html_(self):\n",
      "        return markdown.markdown(self)    "
     ],
     "language": "python",
     "metadata": {},
     "outputs": [],
     "prompt_number": 33
    },
    {
     "cell_type": "code",
     "collapsed": false,
     "input": [
      "MD('Python **rocks**')"
     ],
     "language": "python",
     "metadata": {},
     "outputs": [
      {
       "html": [
        "<p>Python <strong>rocks</strong></p>"
       ],
       "metadata": {},
       "output_type": "pyout",
       "prompt_number": 36,
       "text": [
        "'Python **rocks**'"
       ]
      }
     ],
     "prompt_number": 36
    },
    {
     "cell_type": "code",
     "collapsed": false,
     "input": [
      "from get_reqs import requirements_met\n",
      "\n",
      "md_reqs = [MD(r.replace('not installed', '**not installed**')) for r in requirements_met()]"
     ],
     "language": "python",
     "metadata": {},
     "outputs": [],
     "prompt_number": 47
    },
    {
     "cell_type": "code",
     "collapsed": false,
     "input": [
      "md_reqs[1]"
     ],
     "language": "python",
     "metadata": {},
     "outputs": [
      {
       "html": [
        "<p>psycopg2: <strong>not installed</strong></p>"
       ],
       "metadata": {},
       "output_type": "pyout",
       "prompt_number": 49,
       "text": [
        "'psycopg2: **not installed**'"
       ]
      }
     ],
     "prompt_number": 49
    }
   ],
   "metadata": {}
  }
 ]
}